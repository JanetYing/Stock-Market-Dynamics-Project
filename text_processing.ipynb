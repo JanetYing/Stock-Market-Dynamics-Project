{
 "cells": [
  {
   "cell_type": "code",
   "execution_count": 5,
   "metadata": {},
   "outputs": [],
   "source": [
    "import re\n",
    "import csv\n",
    "import pandas as pd\n",
    "import os\n",
    "import PyPDF2\n",
    "output_directory  = r'C:\\Users\\Janet\\OneDrive - The University of Chicago\\Data_policy\\final-project-janet'\n",
    "input_directory = r'C:\\Users\\Janet\\OneDrive - The University of Chicago\\Data_policy\\final-project-janet\\data\\pdf_raw_data'\n"
   ]
  },
  {
   "cell_type": "code",
   "execution_count": 3,
   "metadata": {},
   "outputs": [],
   "source": [
    "\n",
    "def convert_pdfs_to_texts(file_names):\n",
    "    for file_name in file_names:\n",
    "        file_name = file_name + \".pdf\"\n",
    "\n",
    "        path = os.path.join(input_directory, file_name)\n",
    "\n",
    "        output_file_name = os.path.splitext(file_name)[0] + '.txt'\n",
    "        output_path = os.path.join(input_directory, output_file_name)\n",
    "\n",
    "        with open(path, 'rb') as file:\n",
    "            reader = PyPDF2.PdfReader(file)\n",
    "\n",
    "            with open(output_path, 'w', encoding='utf-8') as text_file:\n",
    "                for page_num in range(len(reader.pages)):\n",
    "                    page = reader.pages[page_num]\n",
    "                    text_file.write(page.extract_text() + '\\n')\n",
    "\n",
    "def clean_data(file_names):\n",
    "    for file_name in file_names:\n",
    "        txt_file_name = file_name + \".txt\"\n",
    "        output_path = os.path.join(input_directory, txt_file_name)\n",
    "\n",
    "        with open(output_path, \"r\", encoding='utf-8') as file:\n",
    "            lines = file.readlines()\n",
    "\n",
    "        #remove rows without parathesis or ending with capital letter\n",
    "        with open(output_path, \"w\", encoding='utf-8') as file:\n",
    "            for line in lines:\n",
    "                if \"(\" in line or \")\" in line:\n",
    "                    if line.strip() and line.strip()[-1].isupper():\n",
    "                        file.write(line)\n",
    "\n",
    "        df = pd.read_csv(output_path, header=None)\n",
    "        df_filtered = df[df.apply(lambda row: 'United States' in row[0], axis=1)]\n",
    "        df_filtered.to_csv(output_path, index=False, header=False)\n",
    "\n",
    "file_names = ['broadcasting', 'computer_consumerElectronics', 'printing_publishing']\n",
    "convert_pdfs_to_texts(file_names)\n",
    "clean_data(file_names)\n",
    "\n"
   ]
  },
  {
   "cell_type": "code",
   "execution_count": 6,
   "metadata": {},
   "outputs": [],
   "source": [
    "\n",
    "def extract_data_to_dataframe(file_path, input_directory):\n",
    "    txt_file_name = file_path + \".txt\"\n",
    "    path = os.path.join(input_directory, txt_file_name)\n",
    "    data = []\n",
    "    with open(path, 'r', encoding='utf-8') as file:\n",
    "        for line in file:\n",
    "            match = re.search(r'\\((.*?)\\).*?United States\\s+([A-Z]+\\s*[A-Z]+)', line)\n",
    "            if match:\n",
    "                ticker = match.group(1)\n",
    "                exchange = match.group(2).replace(' ', '')\n",
    "                data.append({'Ticker': ticker, 'Exchange': exchange})\n",
    "\n",
    "    df = pd.DataFrame(data)\n",
    "    df['Industry'] = file_path\n",
    "    return df\n",
    "\n",
    "def process_files(file_names, input_directory):\n",
    "    dfs = []\n",
    "    for file_name in file_names:\n",
    "        df = extract_data_to_dataframe(file_name, input_directory)\n",
    "        dfs.append(df)\n",
    "\n",
    "    return pd.concat(dfs, ignore_index=True)\n",
    "\n",
    "final_df = process_files(file_names, input_directory)\n",
    "\n",
    "output_path = os.path.join(output_directory, 'output.csv')\n",
    "\n",
    "final_df.to_csv(output_path, index=False)"
   ]
  }
 ],
 "metadata": {
  "kernelspec": {
   "display_name": "Python 3",
   "language": "python",
   "name": "python3"
  },
  "language_info": {
   "codemirror_mode": {
    "name": "ipython",
    "version": 3
   },
   "file_extension": ".py",
   "mimetype": "text/x-python",
   "name": "python",
   "nbconvert_exporter": "python",
   "pygments_lexer": "ipython3",
   "version": "3.11.6"
  }
 },
 "nbformat": 4,
 "nbformat_minor": 2
}
