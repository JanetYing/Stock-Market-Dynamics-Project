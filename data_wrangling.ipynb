{
 "cells": [
  {
   "cell_type": "code",
   "execution_count": null,
   "metadata": {},
   "outputs": [],
   "source": [
    "import pandas as pd\n",
    "import numpy as np\n",
    "import yfinance as yf\n",
    "import statsmodels.api as sm\n",
    "import matplotlib.pyplot as plt\n",
    "import os\n",
    "import json\n",
    "from scipy.stats import t\n",
    "from datetime import datetime, timedelta"
   ]
  },
  {
   "cell_type": "code",
   "execution_count": null,
   "metadata": {},
   "outputs": [],
   "source": [
    "path = 'C:/Users/Janet/OneDrive - The University of Chicago/Data_policy/final-project-janet'\n",
    "\n",
    "file_name = 'output.csv'\n",
    "file_path = os.path.join(path, file_name)\n",
    "df = pd.read_csv(file_path)"
   ]
  },
  {
   "cell_type": "code",
   "execution_count": null,
   "metadata": {},
   "outputs": [],
   "source": [
    "event_date = datetime(2018, 6, 28)\n",
    "estimation_window_start = event_date - timedelta(days=365)\n",
    "estimation_window_end = event_date - timedelta(days=30)\n",
    "event_window_start = event_date - timedelta(days=10)\n",
    "event_window_end = event_date + timedelta(days=10)\n",
    "stock_list = df['Ticker'].unique()\n",
    "# stock_list = ['ATUS', 'AFTM', 'ATUS','AAPL']  # List of stocks to analyze\n",
    "\n"
   ]
  },
  {
   "cell_type": "code",
   "execution_count": null,
   "metadata": {},
   "outputs": [],
   "source": [
    "\n",
    "combined_data = pd.DataFrame()\n",
    "\n",
    "for ticker in stock_list:\n",
    "    try:\n",
    "        stock = yf.Ticker(ticker)\n",
    "        \n",
    "        # Fetch historical stock data\n",
    "        historical_data = stock.history(start=estimation_window_start, end=event_window_end)\n",
    "        if historical_data.empty:\n",
    "            print(f\"No data for {ticker} for specified dates.\")\n",
    "            continue\n",
    "\n",
    "        historical_data['Ticker'] = ticker\n",
    "\n",
    "        info = stock.info\n",
    "        market_cap = info.get('marketCap', 'N/A')\n",
    "        historical_data['MarketCap'] = market_cap\n",
    "\n",
    "        # Append this stock's data to the combined DataFrame\n",
    "        combined_data = pd.concat([combined_data, historical_data])\n",
    "    except Exception as e:\n",
    "        print(f\"Error processing {ticker}: {e}\")\n",
    "\n"
   ]
  },
  {
   "cell_type": "code",
   "execution_count": 52,
   "metadata": {},
   "outputs": [
    {
     "name": "stdout",
     "output_type": "stream",
     "text": [
      "258\n",
      "98\n",
      "19663\n"
     ]
    }
   ],
   "source": [
    "unique_ticker_count = combined_data['Ticker'].nunique()\n",
    "print(unique_ticker_count)\n",
    "print(combined_data['Dividends'].nunique())\n",
    "print(combined_data['Volume'].nunique())"
   ]
  },
  {
   "cell_type": "code",
   "execution_count": 53,
   "metadata": {},
   "outputs": [],
   "source": [
    "sp500_path = r'C:\\Users\\Janet\\OneDrive - The University of Chicago\\Data_policy\\final-project-janet\\data'\n",
    "json_file_name = 'sp500_constituents.json'\n",
    "json_file_path = os.path.join(sp500_path, json_file_name)\n",
    "with open(json_file_path, 'r') as file:\n",
    "    sp500_data = json.load(file)\n",
    "sp500_tickers = sp500_data.get(\"2018/06/20\", []) #extract sp500 constitutes list at the most recent date of event_date (2018/6/28)\n",
    "combined_data['sp500'] = combined_data['Ticker'].apply(lambda x: 1 if x in sp500_tickers else 0)\n",
    "\n",
    "#drop variables\n",
    "columns_to_drop = ['Stock Splits', 'Capital Gains']\n",
    "\n",
    "combined_data = combined_data.drop(columns=columns_to_drop, axis=1)\n",
    "combined_data.to_csv('combined_stock_data.csv')"
   ]
  },
  {
   "cell_type": "code",
   "execution_count": 47,
   "metadata": {},
   "outputs": [
    {
     "name": "stdout",
     "output_type": "stream",
     "text": [
      "Number of instances where sp500 equals 1: 3870\n"
     ]
    }
   ],
   "source": [
    "sp500_counts = combined_data['sp500'].value_counts()\n",
    "count_sp500_is_1 = sp500_counts.get(1, 0)\n",
    "print(\"Number of instances where sp500 equals 1:\", count_sp500_is_1)"
   ]
  }
 ],
 "metadata": {
  "kernelspec": {
   "display_name": "Python 3",
   "language": "python",
   "name": "python3"
  },
  "language_info": {
   "codemirror_mode": {
    "name": "ipython",
    "version": 3
   },
   "file_extension": ".py",
   "mimetype": "text/x-python",
   "name": "python",
   "nbconvert_exporter": "python",
   "pygments_lexer": "ipython3",
   "version": "3.11.6"
  }
 },
 "nbformat": 4,
 "nbformat_minor": 2
}
