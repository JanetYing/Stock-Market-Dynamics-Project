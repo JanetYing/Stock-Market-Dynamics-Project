{
 "cells": [
  {
   "cell_type": "code",
   "execution_count": 16,
   "metadata": {},
   "outputs": [],
   "source": [
    "import pandas as pd\n",
    "import numpy as np\n",
    "import yfinance as yf\n",
    "import statsmodels.api as sm\n",
    "import matplotlib.pyplot as plt\n",
    "from scipy.stats import t\n",
    "from datetime import datetime, timedelta"
   ]
  },
  {
   "cell_type": "code",
   "execution_count": 22,
   "metadata": {},
   "outputs": [],
   "source": [
    "event_date = datetime(2018, 6, 28)\n",
    "estimation_window_start = event_date - timedelta(days=365)\n",
    "estimation_window_end = event_date - timedelta(days=30)\n",
    "event_window_start = event_date - timedelta(days=10)\n",
    "event_window_end = event_date + timedelta(days=10)\n",
    "stock_list = ['ATUS', 'AFTM', 'ATUS','AAPL']  # List of stocks to analyze\n",
    "\n",
    "# # Fetch historical data for the stocks\n",
    "# stock_data = yf.download(stock_list, start=estimation_window_start, end=event_window_end)\n",
    "\n",
    "# # Save the stock data to a CSV file\n",
    "# stock_data.to_csv('stock_data.csv')"
   ]
  },
  {
   "cell_type": "code",
   "execution_count": 23,
   "metadata": {},
   "outputs": [],
   "source": [
    "combined_data = pd.DataFrame()\n",
    "\n",
    "# Fetch historical data and additional company information for each stock\n",
    "for ticker in stock_list:\n",
    "    stock = yf.Ticker(ticker)\n",
    "    \n",
    "    # Fetch historical stock data\n",
    "    historical_data = stock.history(start=estimation_window_start, end=event_window_end)\n",
    "    historical_data['Ticker'] = ticker\n",
    "\n",
    "    # Fetch additional company information\n",
    "    info = stock.info\n",
    "    # revenue = info.get('revenue', 'N/A')\n",
    "    market_cap = info.get('marketCap', 'N/A')\n",
    "\n",
    "    # Add the additional information to the historical data\n",
    "    # historical_data['Revenue'] = revenue\n",
    "    historical_data['MarketCap'] = market_cap\n",
    "\n",
    "    # Append this stock's data to the combined DataFrame\n",
    "    combined_data = pd.concat([combined_data, historical_data])\n",
    "\n",
    "# Save the combined data to a CSV file\n",
    "combined_data.to_csv('combined_stock_data2.csv')"
   ]
  },
  {
   "cell_type": "code",
   "execution_count": 8,
   "metadata": {},
   "outputs": [
    {
     "name": "stdout",
     "output_type": "stream",
     "text": [
      "[0.     0.1825 0.1925]\n"
     ]
    }
   ],
   "source": [
    "# Initialize an empty DataFrame to store combined data\n",
    "combined_data = pd.DataFrame()\n",
    "\n",
    "# Fetch historical data and additional company information for each stock\n",
    "for ticker in stock_list:\n",
    "    stock = yf.Ticker(ticker)\n",
    "    \n",
    "    # Fetch historical stock data including dividends and stock splits\n",
    "    historical_data = stock.history(start=estimation_window_start, end=event_window_end, actions=True)\n",
    "    historical_data['Ticker'] = ticker\n",
    "\n",
    "    # Append this stock's data to the combined DataFrame\n",
    "    combined_data = pd.concat([combined_data, historical_data])\n",
    "\n",
    "# Save the combined data to a CSV file\n",
    "combined_data.to_csv('combined_stock_data_with_dividends.csv')\n",
    "\n",
    "print(combined_data['Dividends'].unique())\n",
    "# combined_data = pd.DataFrame()\n",
    "\n",
    "# # Fetch historical data and additional company information for each stock\n",
    "# for ticker in stock_list:\n",
    "#     stock = yf.Ticker(ticker)\n",
    "    \n",
    "#     # Fetch historical stock data\n",
    "#     historical_data = stock.history(start=estimation_window_start, end=event_window_end)\n",
    "#     historical_data['Ticker'] = ticker\n",
    "\n",
    "\n",
    "#     # Append this stock's data to the combined DataFrame\n",
    "#     combined_data = pd.concat([combined_data, historical_data])\n",
    "\n",
    "# # Save the combined data to a CSV file\n",
    "# combined_data.to_csv('combined_stock_data.csv')"
   ]
  },
  {
   "cell_type": "code",
   "execution_count": null,
   "metadata": {},
   "outputs": [],
   "source": [
    "    # # Fetch additional company information\n",
    "    # info = stock.info\n",
    "    # revenue = info.get('revenue', 'N/A')\n",
    "    # market_cap = info.get('marketCap', 'N/A')\n",
    "    # net_income = info.get('netIncome', 'N/A') \n",
    "\n",
    "    # # Add the additional information to the historical data\n",
    "    # historical_data['Revenue'] = revenue\n",
    "    # historical_data['MarketCap'] = market_cap\n",
    "    # historical_data['NetIncome'] = net_income\n"
   ]
  },
  {
   "cell_type": "code",
   "execution_count": 6,
   "metadata": {},
   "outputs": [
    {
     "name": "stdout",
     "output_type": "stream",
     "text": [
      "{'address1': 'One Apple Park Way', 'city': 'Cupertino', 'state': 'CA', 'zip': '95014', 'country': 'United States', 'phone': '408 996 1010', 'website': 'https://www.apple.com', 'industry': 'Consumer Electronics', 'industryKey': 'consumer-electronics', 'industryDisp': 'Consumer Electronics', 'sector': 'Technology', 'sectorKey': 'technology', 'sectorDisp': 'Technology', 'longBusinessSummary': 'Apple Inc. designs, manufactures, and markets smartphones, personal computers, tablets, wearables, and accessories worldwide. The company offers iPhone, a line of smartphones; Mac, a line of personal computers; iPad, a line of multi-purpose tablets; and wearables, home, and accessories comprising AirPods, Apple TV, Apple Watch, Beats products, and HomePod. It also provides AppleCare support and cloud services; and operates various platforms, including the App Store that allow customers to discover and download applications and digital content, such as books, music, video, games, and podcasts. In addition, the company offers various services, such as Apple Arcade, a game subscription service; Apple Fitness+, a personalized fitness service; Apple Music, which offers users a curated listening experience with on-demand radio stations; Apple News+, a subscription news and magazine service; Apple TV+, which offers exclusive original content; Apple Card, a co-branded credit card; and Apple Pay, a cashless payment service, as well as licenses its intellectual property. The company serves consumers, and small and mid-sized businesses; and the education, enterprise, and government markets. It distributes third-party applications for its products through the App Store. The company also sells its products through its retail and online stores, and direct sales force; and third-party cellular network carriers, wholesalers, retailers, and resellers. Apple Inc. was founded in 1976 and is headquartered in Cupertino, California.', 'fullTimeEmployees': 161000, 'companyOfficers': [{'maxAge': 1, 'name': 'Mr. Timothy D. Cook', 'age': 61, 'title': 'CEO & Director', 'yearBorn': 1961, 'fiscalYear': 2022, 'totalPay': 16425933, 'exercisedValue': 0, 'unexercisedValue': 0}, {'maxAge': 1, 'name': 'Mr. Luca  Maestri', 'age': 59, 'title': 'CFO & Senior VP', 'yearBorn': 1963, 'fiscalYear': 2022, 'totalPay': 5019783, 'exercisedValue': 0, 'unexercisedValue': 0}, {'maxAge': 1, 'name': 'Mr. Jeffrey E. Williams', 'age': 58, 'title': 'Chief Operating Officer', 'yearBorn': 1964, 'fiscalYear': 2022, 'totalPay': 5018337, 'exercisedValue': 0, 'unexercisedValue': 0}, {'maxAge': 1, 'name': 'Ms. Katherine L. Adams', 'age': 58, 'title': 'Senior VP, General Counsel & Secretary', 'yearBorn': 1964, 'fiscalYear': 2022, 'totalPay': 5015208, 'exercisedValue': 0, 'unexercisedValue': 0}, {'maxAge': 1, 'name': \"Ms. Deirdre  O'Brien\", 'age': 55, 'title': 'Senior Vice President of Retail', 'yearBorn': 1967, 'fiscalYear': 2022, 'totalPay': 5019783, 'exercisedValue': 0, 'unexercisedValue': 0}, {'maxAge': 1, 'name': 'Mr. Chris  Kondo', 'title': 'Senior Director of Corporate Accounting', 'fiscalYear': 2022, 'exercisedValue': 0, 'unexercisedValue': 0}, {'maxAge': 1, 'name': 'Mr. James  Wilson', 'title': 'Chief Technology Officer', 'fiscalYear': 2022, 'exercisedValue': 0, 'unexercisedValue': 0}, {'maxAge': 1, 'name': 'Ms. Mary  Demby', 'title': 'Chief Information Officer', 'fiscalYear': 2022, 'exercisedValue': 0, 'unexercisedValue': 0}, {'maxAge': 1, 'name': 'Suhasini  Chandramouli', 'title': 'Director of Investor Relations', 'fiscalYear': 2022, 'exercisedValue': 0, 'unexercisedValue': 0}, {'maxAge': 1, 'name': 'Mr. Greg  Joswiak', 'title': 'Senior Vice President of Worldwide Marketing', 'fiscalYear': 2022, 'exercisedValue': 0, 'unexercisedValue': 0}], 'auditRisk': 4, 'boardRisk': 1, 'compensationRisk': 6, 'shareHolderRightsRisk': 1, 'overallRisk': 1, 'governanceEpochDate': 1701388800, 'compensationAsOfEpochDate': 1672444800, 'maxAge': 86400, 'priceHint': 2, 'previousClose': 189.95, 'open': 190.33, 'dayLow': 189.23, 'dayHigh': 191.555, 'regularMarketPreviousClose': 189.95, 'regularMarketOpen': 190.33, 'regularMarketDayLow': 189.23, 'regularMarketDayHigh': 191.555, 'dividendRate': 0.96, 'dividendYield': 0.005, 'exDividendDate': 1699574400, 'payoutRatio': 0.1533, 'fiveYearAvgDividendYield': 0.82, 'beta': 1.305, 'trailingPE': 31.146582, 'forwardPE': 26.746853, 'volume': 45704823, 'regularMarketVolume': 45704823, 'averageVolume': 57299031, 'averageVolume10days': 41568420, 'averageDailyVolume10Day': 41568420, 'bid': 191.3, 'ask': 191.33, 'bidSize': 3000, 'askSize': 800, 'marketCap': 2974317543424, 'fiftyTwoWeekLow': 124.17, 'fiftyTwoWeekHigh': 198.23, 'priceToSalesTrailing12Months': 7.7600675, 'fiftyDayAverage': 179.4516, 'twoHundredDayAverage': 175.26715, 'trailingAnnualDividendRate': 0.94, 'trailingAnnualDividendYield': 0.004948671, 'currency': 'USD', 'enterpriseValue': 3036683173888, 'profitMargins': 0.25305998, 'floatShares': 15535488445, 'sharesOutstanding': 15552799744, 'sharesShort': 105837123, 'sharesShortPriorMonth': 93026130, 'sharesShortPreviousMonthDate': 1697155200, 'dateShortInterest': 1700006400, 'sharesPercentSharesOut': 0.0068, 'heldPercentInsiders': 0.00071999995, 'heldPercentInstitutions': 0.61317, 'shortRatio': 1.81, 'shortPercentOfFloat': 0.0068, 'impliedSharesOutstanding': 15552799744, 'bookValue': 3.997, 'priceToBook': 47.845886, 'lastFiscalYearEnd': 1696032000, 'nextFiscalYearEnd': 1727654400, 'mostRecentQuarter': 1696032000, 'earningsQuarterlyGrowth': 0.108, 'netIncomeToCommon': 96995000320, 'trailingEps': 6.14, 'forwardEps': 7.15, 'pegRatio': 4.72, 'lastSplitFactor': '4:1', 'lastSplitDate': 1598832000, 'enterpriseToRevenue': 7.923, 'enterpriseToEbitda': 24.135, '52WeekChange': 0.3042351, 'SandP52WeekChange': 0.14899075, 'lastDividendValue': 0.24, 'lastDividendDate': 1699574400, 'exchange': 'NMS', 'quoteType': 'EQUITY', 'symbol': 'AAPL', 'underlyingSymbol': 'AAPL', 'shortName': 'Apple Inc.', 'longName': 'Apple Inc.', 'firstTradeDateEpochUtc': 345479400, 'timeZoneFullName': 'America/New_York', 'timeZoneShortName': 'EST', 'uuid': '8b10e4ae-9eeb-3684-921a-9ab27e4d87aa', 'messageBoardId': 'finmb_24937', 'gmtOffSetMilliseconds': -18000000, 'currentPrice': 191.24, 'targetHighPrice': 240.0, 'targetLowPrice': 159.0, 'targetMeanPrice': 198.01, 'targetMedianPrice': 200.0, 'recommendationMean': 2.1, 'recommendationKey': 'buy', 'numberOfAnalystOpinions': 39, 'totalCash': 61554999296, 'totalCashPerShare': 3.958, 'ebitda': 125820002304, 'totalDebt': 123930001408, 'quickRatio': 0.843, 'currentRatio': 0.988, 'totalRevenue': 383285002240, 'debtToEquity': 199.418, 'revenuePerShare': 24.344, 'returnOnAssets': 0.20256001, 'returnOnEquity': 1.7195, 'grossProfits': 170782000000, 'freeCashflow': 82179997696, 'operatingCashflow': 110543003648, 'earningsGrowth': 0.135, 'revenueGrowth': -0.007, 'grossMargins': 0.44131002, 'ebitdaMargins': 0.32827, 'operatingMargins': 0.30134, 'financialCurrency': 'USD', 'trailingPegRatio': 2.2549}\n"
     ]
    }
   ],
   "source": [
    "stock = yf.Ticker('AAPL')\n",
    "info = stock.info\n",
    "print(info)  # Check the content of info\n"
   ]
  }
 ],
 "metadata": {
  "kernelspec": {
   "display_name": "Python 3",
   "language": "python",
   "name": "python3"
  },
  "language_info": {
   "codemirror_mode": {
    "name": "ipython",
    "version": 3
   },
   "file_extension": ".py",
   "mimetype": "text/x-python",
   "name": "python",
   "nbconvert_exporter": "python",
   "pygments_lexer": "ipython3",
   "version": "3.11.6"
  }
 },
 "nbformat": 4,
 "nbformat_minor": 2
}
